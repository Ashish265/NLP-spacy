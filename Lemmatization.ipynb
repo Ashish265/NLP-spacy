{
  "nbformat": 4,
  "nbformat_minor": 0,
  "metadata": {
    "colab": {
      "name": "Lemmatization.ipynb",
      "provenance": [],
      "authorship_tag": "ABX9TyPvVIxCJFRhn77t66kLT7q+",
      "include_colab_link": true
    },
    "kernelspec": {
      "name": "python3",
      "display_name": "Python 3"
    }
  },
  "cells": [
    {
      "cell_type": "markdown",
      "metadata": {
        "id": "view-in-github",
        "colab_type": "text"
      },
      "source": [
        "<a href=\"https://colab.research.google.com/github/Ashish265/NLP-spacy/blob/master/Lemmatization.ipynb\" target=\"_parent\"><img src=\"https://colab.research.google.com/assets/colab-badge.svg\" alt=\"Open In Colab\"/></a>"
      ]
    },
    {
      "cell_type": "code",
      "metadata": {
        "id": "cSkO5UVJrHJo",
        "colab_type": "code",
        "colab": {}
      },
      "source": [
        "import spacy"
      ],
      "execution_count": 1,
      "outputs": []
    },
    {
      "cell_type": "code",
      "metadata": {
        "id": "FYnjsf7GrNmx",
        "colab_type": "code",
        "colab": {}
      },
      "source": [
        "nlp= spacy.load('en_core_web_sm')"
      ],
      "execution_count": 2,
      "outputs": []
    },
    {
      "cell_type": "code",
      "metadata": {
        "id": "aPsVwQ4arSwL",
        "colab_type": "code",
        "colab": {}
      },
      "source": [
        "doc1 = nlp(u\"I am a runner running in a race because i love to run since i love running\")"
      ],
      "execution_count": 3,
      "outputs": []
    },
    {
      "cell_type": "code",
      "metadata": {
        "id": "WFZgJs5Drraz",
        "colab_type": "code",
        "colab": {
          "base_uri": "https://localhost:8080/",
          "height": 318
        },
        "outputId": "d66a9f20-adae-4e23-afb2-7486a7ec168f"
      },
      "source": [
        "for token in doc1:\n",
        "  print(token.text,'\\t',token.pos,\"\\t\",token.lemma)"
      ],
      "execution_count": 5,
      "outputs": [
        {
          "output_type": "stream",
          "text": [
            "I \t 95 \t 561228191312463089\n",
            "am \t 87 \t 10382539506755952630\n",
            "a \t 90 \t 11901859001352538922\n",
            "runner \t 92 \t 12640964157389618806\n",
            "running \t 100 \t 12767647472892411841\n",
            "in \t 85 \t 3002984154512732771\n",
            "a \t 90 \t 11901859001352538922\n",
            "race \t 92 \t 8048469955494714898\n",
            "because \t 98 \t 16950148841647037698\n",
            "i \t 95 \t 5097672513440128799\n",
            "love \t 100 \t 3702023516439754181\n",
            "to \t 94 \t 3791531372978436496\n",
            "run \t 100 \t 12767647472892411841\n",
            "since \t 98 \t 10066841407251338481\n",
            "i \t 95 \t 5097672513440128799\n",
            "love \t 100 \t 3702023516439754181\n",
            "running \t 100 \t 12767647472892411841\n"
          ],
          "name": "stdout"
        }
      ]
    },
    {
      "cell_type": "code",
      "metadata": {
        "id": "FAzK6OGDsEKN",
        "colab_type": "code",
        "colab": {}
      },
      "source": [
        "def show_lemma(text):\n",
        "  for token in text:\n",
        "    print(f'{token.text:{12}}{token.pos_:{6}}{token.lemma:<{22}}')\n"
      ],
      "execution_count": 7,
      "outputs": []
    },
    {
      "cell_type": "code",
      "metadata": {
        "id": "NSEmaGz5szjU",
        "colab_type": "code",
        "colab": {
          "base_uri": "https://localhost:8080/",
          "height": 318
        },
        "outputId": "e7aad53f-fbed-4bd5-d3f3-817674dd8f41"
      },
      "source": [
        "show_lemma(doc1)"
      ],
      "execution_count": 8,
      "outputs": [
        {
          "output_type": "stream",
          "text": [
            "I           PRON  561228191312463089    \n",
            "am          AUX   10382539506755952630  \n",
            "a           DET   11901859001352538922  \n",
            "runner      NOUN  12640964157389618806  \n",
            "running     VERB  12767647472892411841  \n",
            "in          ADP   3002984154512732771   \n",
            "a           DET   11901859001352538922  \n",
            "race        NOUN  8048469955494714898   \n",
            "because     SCONJ 16950148841647037698  \n",
            "i           PRON  5097672513440128799   \n",
            "love        VERB  3702023516439754181   \n",
            "to          PART  3791531372978436496   \n",
            "run         VERB  12767647472892411841  \n",
            "since       SCONJ 10066841407251338481  \n",
            "i           PRON  5097672513440128799   \n",
            "love        VERB  3702023516439754181   \n",
            "running     VERB  12767647472892411841  \n"
          ],
          "name": "stdout"
        }
      ]
    },
    {
      "cell_type": "code",
      "metadata": {
        "id": "-A3BlbPZs_Mj",
        "colab_type": "code",
        "colab": {}
      },
      "source": [
        ""
      ],
      "execution_count": null,
      "outputs": []
    }
  ]
}