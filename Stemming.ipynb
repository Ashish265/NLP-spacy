{
  "nbformat": 4,
  "nbformat_minor": 0,
  "metadata": {
    "colab": {
      "name": "Stemming.ipynb",
      "provenance": [],
      "authorship_tag": "ABX9TyNNdR0AnH7/Tl8h2pytHPGR",
      "include_colab_link": true
    },
    "kernelspec": {
      "name": "python3",
      "display_name": "Python 3"
    }
  },
  "cells": [
    {
      "cell_type": "markdown",
      "metadata": {
        "id": "view-in-github",
        "colab_type": "text"
      },
      "source": [
        "<a href=\"https://colab.research.google.com/github/Ashish265/NLP-spacy/blob/master/Stemming.ipynb\" target=\"_parent\"><img src=\"https://colab.research.google.com/assets/colab-badge.svg\" alt=\"Open In Colab\"/></a>"
      ]
    },
    {
      "cell_type": "code",
      "metadata": {
        "id": "KZ5ad-1dpGRj",
        "colab_type": "code",
        "colab": {}
      },
      "source": [
        "import nltk\n",
        "from nltk.stem.porter import PorterStemmer"
      ],
      "execution_count": 1,
      "outputs": []
    },
    {
      "cell_type": "code",
      "metadata": {
        "id": "KmpcCbpnpxcx",
        "colab_type": "code",
        "colab": {}
      },
      "source": [
        "p_stemmer = PorterStemmer()"
      ],
      "execution_count": 2,
      "outputs": []
    },
    {
      "cell_type": "code",
      "metadata": {
        "id": "rLQa4Z_cp3qM",
        "colab_type": "code",
        "colab": {}
      },
      "source": [
        "words = ['run','runner','ran','runs','easily','fairly']"
      ],
      "execution_count": 4,
      "outputs": []
    },
    {
      "cell_type": "code",
      "metadata": {
        "id": "mmteOjA0p-NT",
        "colab_type": "code",
        "colab": {
          "base_uri": "https://localhost:8080/",
          "height": 123
        },
        "outputId": "6f816bfe-09a3-4b26-e72d-780e5cfe2753"
      },
      "source": [
        "for word in words:\n",
        "  print(word +\"------->\"+p_stemmer.stem(word))"
      ],
      "execution_count": 6,
      "outputs": [
        {
          "output_type": "stream",
          "text": [
            "run------->run\n",
            "runner------->runner\n",
            "ran------->ran\n",
            "runs------->run\n",
            "easily------->easili\n",
            "fairly------->fairli\n"
          ],
          "name": "stdout"
        }
      ]
    },
    {
      "cell_type": "code",
      "metadata": {
        "id": "ejf6sxgbqNFM",
        "colab_type": "code",
        "colab": {}
      },
      "source": [
        "from nltk.stem.snowball import SnowballStemmer"
      ],
      "execution_count": 7,
      "outputs": []
    },
    {
      "cell_type": "code",
      "metadata": {
        "id": "1E2xpbvdqbxC",
        "colab_type": "code",
        "colab": {}
      },
      "source": [
        "s_stemmer = SnowballStemmer(language='english')"
      ],
      "execution_count": 8,
      "outputs": []
    },
    {
      "cell_type": "code",
      "metadata": {
        "id": "ybB6OCV5qifj",
        "colab_type": "code",
        "colab": {
          "base_uri": "https://localhost:8080/",
          "height": 123
        },
        "outputId": "4bcc42ac-fd66-4110-c2ec-d5548f99e395"
      },
      "source": [
        "for word in words:\n",
        "  print(word +\"------->\"+s_stemmer.stem(word))"
      ],
      "execution_count": 9,
      "outputs": [
        {
          "output_type": "stream",
          "text": [
            "run------->run\n",
            "runner------->runner\n",
            "ran------->ran\n",
            "runs------->run\n",
            "easily------->easili\n",
            "fairly------->fair\n"
          ],
          "name": "stdout"
        }
      ]
    },
    {
      "cell_type": "code",
      "metadata": {
        "id": "MNUAiHypqkoD",
        "colab_type": "code",
        "colab": {}
      },
      "source": [
        ""
      ],
      "execution_count": null,
      "outputs": []
    }
  ]
}