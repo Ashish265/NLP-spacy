{
  "nbformat": 4,
  "nbformat_minor": 0,
  "metadata": {
    "colab": {
      "name": "stopwords.ipynb",
      "provenance": [],
      "authorship_tag": "ABX9TyM1jIbaTggrBZ1rqL2STKre",
      "include_colab_link": true
    },
    "kernelspec": {
      "name": "python3",
      "display_name": "Python 3"
    }
  },
  "cells": [
    {
      "cell_type": "markdown",
      "metadata": {
        "id": "view-in-github",
        "colab_type": "text"
      },
      "source": [
        "<a href=\"https://colab.research.google.com/github/Ashish265/NLP-spacy/blob/master/stopwords.ipynb\" target=\"_parent\"><img src=\"https://colab.research.google.com/assets/colab-badge.svg\" alt=\"Open In Colab\"/></a>"
      ]
    },
    {
      "cell_type": "code",
      "metadata": {
        "id": "MCC7MocctLRl",
        "colab_type": "code",
        "colab": {}
      },
      "source": [
        "import spacy"
      ],
      "execution_count": 3,
      "outputs": []
    },
    {
      "cell_type": "code",
      "metadata": {
        "id": "8KqNUV2stPR2",
        "colab_type": "code",
        "colab": {}
      },
      "source": [
        "nlp = spacy.load('en_core_web_sm')"
      ],
      "execution_count": 4,
      "outputs": []
    },
    {
      "cell_type": "code",
      "metadata": {
        "id": "ZK2GMUdKtc-9",
        "colab_type": "code",
        "colab": {
          "base_uri": "https://localhost:8080/",
          "height": 54
        },
        "outputId": "2f7b2633-e2b5-42fc-bdec-eeeb62eb62f1"
      },
      "source": [
        "print(nlp.Defaults.stop_words)"
      ],
      "execution_count": 5,
      "outputs": [
        {
          "output_type": "stream",
          "text": [
            "{'thereby', 'amount', '’ll', 'once', 'least', 'before', 'around', 'it', 'down', 'during', 'made', 'been', 'either', 'herein', 'how', 'same', 'therein', 'meanwhile', 'via', 'hereby', 'the', 'them', 'sometime', 'unless', 'ca', '‘ll', 'he', 'across', 'become', 'whether', 'as', 'latter', 'to', 'five', 'have', 'behind', '’s', 'hers', 'just', 'enough', 'front', 'put', 'nor', 'three', 'thence', 'out', 'our', 'his', 'too', 'show', 'through', 'no', 'formerly', 'thru', 'anything', 'be', 'whom', 'everyone', 'give', 'n‘t', 'amongst', 'cannot', 'name', 'whenever', 'afterwards', 'whoever', 'please', 'each', 'may', 'though', 'thereafter', 'am', 'among', 'ten', 'did', 'together', 'until', 'off', 'over', 'full', 'except', 'therefore', 'besides', 'what', 'thereupon', 'fifty', '‘s', 'mine', 'her', 'throughout', 'still', 'himself', 'are', 'who', 'why', 'very', 'these', 'ever', 'due', 'if', 'must', 'nevertheless', 'fifteen', 'or', 'themselves', 'above', 'ours', 'well', 'while', 'which', 'against', 'yourselves', \"'d\", 'namely', 'most', 'towards', \"'re\", 'herself', 'wherever', 'was', 'beforehand', '‘ve', 'we', 'everything', 'toward', 'below', 'here', 'however', 'none', 'other', 'a', 'bottom', 'almost', 'less', 'nothing', 'anyway', 'their', 'there', 'top', 'alone', 'four', 'hundred', 'without', 'various', \"'m\", 'this', 'yourself', 'although', '‘m', 'say', 'beside', 'even', 'forty', 'anyone', 'otherwise', 'where', 'whole', 'never', 'any', 'only', 're', \"'s\", 'whereafter', 'on', 'ourselves', 'us', 'whereby', \"'ll\", 'every', 'had', 'call', 'six', '’ve', 'for', 'last', \"'ve\", 'more', 'eleven', 'further', 'indeed', 'often', 'also', 'in', 'onto', 'move', 'own', 'does', 'eight', 'noone', 'first', '‘re', 'latterly', 'neither', 'part', 'something', 'using', 'she', 'done', 'mostly', 'then', 'at', 'all', 'and', 'anywhere', 'again', 'itself', 'many', 'perhaps', 'regarding', 'of', 'twelve', 'under', 'might', 'per', 'much', 'were', 'will', 'sixty', 'you', 'but', 'would', 'whence', 'should', 'not', 'quite', 'is', 'moreover', 'someone', 'side', 'since', 'one', 'everywhere', 'make', 'has', 'hereafter', 'whose', 'nine', 'becoming', 'became', 'third', 'an', 'keep', 'yet', 'somewhere', 'thus', 'whatever', 'somehow', 'n’t', \"n't\", 'serious', 'its', 'can', '’d', 'really', 'another', 'next', 'seems', '‘d', 'when', 'do', 'beyond', 'see', 'two', 'your', 'always', 'me', 'becomes', 'few', 'into', 'could', 'empty', 'him', 'my', 'between', 'others', 'several', 'twenty', 'already', 'being', 'whereas', 'that', 'whereupon', 'myself', 'go', 'hereupon', 'so', 'anyhow', 'some', 'they', 'hence', '’re', 'than', 'seemed', 'those', 'sometimes', 'rather', 'whither', 'seem', 'seeming', 'doing', 'yours', 'from', 'after', 'by', 'wherein', 'up', 'else', 'now', 'elsewhere', 'such', 'take', 'with', 'i', 'within', 'about', 'get', 'former', '’m', 'nobody', 'used', 'nowhere', 'along', 'both', 'upon', 'back', 'because'}\n"
          ],
          "name": "stdout"
        }
      ]
    },
    {
      "cell_type": "code",
      "metadata": {
        "id": "2ZE6LXNkKHrv",
        "colab_type": "code",
        "colab": {
          "base_uri": "https://localhost:8080/",
          "height": 34
        },
        "outputId": "dcfe4b5e-0778-461d-e26e-7d2a39aee69b"
      },
      "source": [
        "print(len(nlp.Defaults.stop_words))"
      ],
      "execution_count": 6,
      "outputs": [
        {
          "output_type": "stream",
          "text": [
            "326\n"
          ],
          "name": "stdout"
        }
      ]
    },
    {
      "cell_type": "code",
      "metadata": {
        "id": "bgsDLzC6KSju",
        "colab_type": "code",
        "colab": {
          "base_uri": "https://localhost:8080/",
          "height": 34
        },
        "outputId": "ca49a740-f856-4958-bc67-05ccdbfe544c"
      },
      "source": [
        "nlp.vocab['is'].is_stop"
      ],
      "execution_count": 7,
      "outputs": [
        {
          "output_type": "execute_result",
          "data": {
            "text/plain": [
              "True"
            ]
          },
          "metadata": {
            "tags": []
          },
          "execution_count": 7
        }
      ]
    },
    {
      "cell_type": "code",
      "metadata": {
        "id": "qnKbpzAHKYEl",
        "colab_type": "code",
        "colab": {
          "base_uri": "https://localhost:8080/",
          "height": 34
        },
        "outputId": "b7d44e48-647a-4a7f-fe02-038589754251"
      },
      "source": [
        "nlp.vocab['mystery'].is_stop"
      ],
      "execution_count": 8,
      "outputs": [
        {
          "output_type": "execute_result",
          "data": {
            "text/plain": [
              "False"
            ]
          },
          "metadata": {
            "tags": []
          },
          "execution_count": 8
        }
      ]
    },
    {
      "cell_type": "code",
      "metadata": {
        "id": "emBfjl8oKdNe",
        "colab_type": "code",
        "colab": {}
      },
      "source": [
        "nlp.Defaults.stop_words.add('btw')"
      ],
      "execution_count": 9,
      "outputs": []
    },
    {
      "cell_type": "code",
      "metadata": {
        "id": "HqHb6yCeKowF",
        "colab_type": "code",
        "colab": {
          "base_uri": "https://localhost:8080/",
          "height": 34
        },
        "outputId": "dbba6f7f-2e9d-44b4-b1cf-c526ea32301d"
      },
      "source": [
        "nlp.vocab['btw'].is_stop"
      ],
      "execution_count": 10,
      "outputs": [
        {
          "output_type": "execute_result",
          "data": {
            "text/plain": [
              "True"
            ]
          },
          "metadata": {
            "tags": []
          },
          "execution_count": 10
        }
      ]
    },
    {
      "cell_type": "code",
      "metadata": {
        "id": "qoGO19peKrpF",
        "colab_type": "code",
        "colab": {}
      },
      "source": [
        ""
      ],
      "execution_count": null,
      "outputs": []
    }
  ]
}