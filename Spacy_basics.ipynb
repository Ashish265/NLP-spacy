{
  "nbformat": 4,
  "nbformat_minor": 0,
  "metadata": {
    "colab": {
      "name": "Spacy basics.ipynb",
      "provenance": []
    },
    "kernelspec": {
      "name": "python3",
      "display_name": "Python 3"
    }
  },
  "cells": [
    {
      "cell_type": "code",
      "metadata": {
        "id": "KS1XNufpjdhF",
        "colab_type": "code",
        "colab": {}
      },
      "source": [
        "import spacy"
      ],
      "execution_count": 1,
      "outputs": []
    },
    {
      "cell_type": "code",
      "metadata": {
        "id": "1coKqQoSSxHV",
        "colab_type": "code",
        "colab": {}
      },
      "source": [
        "nlp = spacy.load(\"en_core_web_sm\")"
      ],
      "execution_count": 2,
      "outputs": []
    },
    {
      "cell_type": "code",
      "metadata": {
        "id": "C9baW95HS3Xz",
        "colab_type": "code",
        "colab": {}
      },
      "source": [
        "doc = nlp(u'Tesla is looking at buying U.S startup for $6 billion')"
      ],
      "execution_count": 3,
      "outputs": []
    },
    {
      "cell_type": "code",
      "metadata": {
        "id": "53qm2KXCTI6B",
        "colab_type": "code",
        "colab": {
          "base_uri": "https://localhost:8080/",
          "height": 212
        },
        "outputId": "08a1adcf-71cb-4ad2-8bde-b45b8093cc5a"
      },
      "source": [
        "for token in doc:\n",
        "  print(token.text)"
      ],
      "execution_count": 8,
      "outputs": [
        {
          "output_type": "stream",
          "text": [
            "Tesla\n",
            "is\n",
            "looking\n",
            "at\n",
            "buying\n",
            "U.S\n",
            "startup\n",
            "for\n",
            "$\n",
            "6\n",
            "billion\n"
          ],
          "name": "stdout"
        }
      ]
    },
    {
      "cell_type": "code",
      "metadata": {
        "id": "DYlr-jJQTQza",
        "colab_type": "code",
        "colab": {
          "base_uri": "https://localhost:8080/",
          "height": 212
        },
        "outputId": "2f48c6cf-3f37-431f-d660-e6327045bd25"
      },
      "source": [
        "for token in doc:\n",
        "  print(token.text,token.pos,token.pos_)"
      ],
      "execution_count": 9,
      "outputs": [
        {
          "output_type": "stream",
          "text": [
            "Tesla 96 PROPN\n",
            "is 87 AUX\n",
            "looking 100 VERB\n",
            "at 85 ADP\n",
            "buying 100 VERB\n",
            "U.S 96 PROPN\n",
            "startup 92 NOUN\n",
            "for 85 ADP\n",
            "$ 99 SYM\n",
            "6 93 NUM\n",
            "billion 93 NUM\n"
          ],
          "name": "stdout"
        }
      ]
    },
    {
      "cell_type": "code",
      "metadata": {
        "id": "7b28ExAwTrx6",
        "colab_type": "code",
        "colab": {
          "base_uri": "https://localhost:8080/",
          "height": 70
        },
        "outputId": "bb88c8cc-3c75-4328-bc59-01510ef08c4b"
      },
      "source": [
        " nlp.pipeline"
      ],
      "execution_count": 10,
      "outputs": [
        {
          "output_type": "execute_result",
          "data": {
            "text/plain": [
              "[('tagger', <spacy.pipeline.pipes.Tagger at 0x7f1f316bdd30>),\n",
              " ('parser', <spacy.pipeline.pipes.DependencyParser at 0x7f1f315966a8>),\n",
              " ('ner', <spacy.pipeline.pipes.EntityRecognizer at 0x7f1f31596708>)]"
            ]
          },
          "metadata": {
            "tags": []
          },
          "execution_count": 10
        }
      ]
    },
    {
      "cell_type": "code",
      "metadata": {
        "id": "xYT64nJ1UA0J",
        "colab_type": "code",
        "colab": {}
      },
      "source": [
        "doc2 = nlp(u\"Tesla isn't looking into startups anymore\")"
      ],
      "execution_count": 11,
      "outputs": []
    },
    {
      "cell_type": "code",
      "metadata": {
        "id": "Mvjo8KcCW20C",
        "colab_type": "code",
        "colab": {
          "base_uri": "https://localhost:8080/",
          "height": 212
        },
        "outputId": "71bc2490-7682-46ca-d532-27abec974878"
      },
      "source": [
        "for token in doc:\n",
        "  print(token.text,token.pos_,token.dep_)"
      ],
      "execution_count": 12,
      "outputs": [
        {
          "output_type": "stream",
          "text": [
            "Tesla PROPN nsubj\n",
            "is AUX aux\n",
            "looking VERB ROOT\n",
            "at ADP prep\n",
            "buying VERB pcomp\n",
            "U.S PROPN compound\n",
            "startup NOUN dobj\n",
            "for ADP prep\n",
            "$ SYM quantmod\n",
            "6 NUM compound\n",
            "billion NUM pobj\n"
          ],
          "name": "stdout"
        }
      ]
    },
    {
      "cell_type": "code",
      "metadata": {
        "id": "YgZGjco-W6OB",
        "colab_type": "code",
        "colab": {}
      },
      "source": [
        "doc3 = nlp(u\"Tjis is the first sentence. This is another sentence. This is the last sentence\")"
      ],
      "execution_count": 14,
      "outputs": []
    },
    {
      "cell_type": "code",
      "metadata": {
        "id": "wREdwqnTXMSa",
        "colab_type": "code",
        "colab": {
          "base_uri": "https://localhost:8080/",
          "height": 70
        },
        "outputId": "3dbe4561-a0cc-4701-8a24-08121bc44b4e"
      },
      "source": [
        "for sentence in doc3.sents:\n",
        "  print(sentence)"
      ],
      "execution_count": 15,
      "outputs": [
        {
          "output_type": "stream",
          "text": [
            "Tjis is the first sentence.\n",
            "This is another sentence.\n",
            "This is the last sentence\n"
          ],
          "name": "stdout"
        }
      ]
    },
    {
      "cell_type": "code",
      "metadata": {
        "id": "0nkIUSlbXX8K",
        "colab_type": "code",
        "colab": {
          "base_uri": "https://localhost:8080/",
          "height": 34
        },
        "outputId": "c76fcd87-be73-4b0f-cf53-dda9d261bb89"
      },
      "source": [
        "doc3[6].is_sent_start"
      ],
      "execution_count": 16,
      "outputs": [
        {
          "output_type": "execute_result",
          "data": {
            "text/plain": [
              "True"
            ]
          },
          "metadata": {
            "tags": []
          },
          "execution_count": 16
        }
      ]
    },
    {
      "cell_type": "code",
      "metadata": {
        "id": "2b_qhs9-Yr_a",
        "colab_type": "code",
        "colab": {}
      },
      "source": [
        ""
      ],
      "execution_count": null,
      "outputs": []
    }
  ]
}